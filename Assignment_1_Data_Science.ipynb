{
  "nbformat": 4,
  "nbformat_minor": 0,
  "metadata": {
    "colab": {
      "name": "Assignment 1 Data Science.ipynb",
      "provenance": []
    },
    "kernelspec": {
      "name": "python3",
      "display_name": "Python 3"
    },
    "language_info": {
      "name": "python"
    }
  },
  "cells": [
    {
      "cell_type": "code",
      "source": [
        "print(\"Twinkle, twinkle, little star, \\n\\tHow I wonder what you are! \\n\\t\\tUp above the world so high, \\n\\t\\tLike a diamond in the sky. \\nTwinkle, twinkle, little star, \\n\\tHow I wonder what you are!\")\n"
      ],
      "metadata": {
        "colab": {
          "base_uri": "https://localhost:8080/"
        },
        "id": "-LnUBKxqcSta",
        "outputId": "639d1008-2785-409b-8fed-f63505c1c9c5"
      },
      "execution_count": 1,
      "outputs": [
        {
          "output_type": "stream",
          "name": "stdout",
          "text": [
            "Twinkle, twinkle, little star, \n",
            "\tHow I wonder what you are! \n",
            "\t\tUp above the world so high, \n",
            "\t\tLike a diamond in the sky. \n",
            "Twinkle, twinkle, little star, \n",
            "\tHow I wonder what you are!\n"
          ]
        }
      ]
    },
    {
      "cell_type": "code",
      "source": [
        "import sys\n",
        "print(\"Python version\")\n",
        "print (sys.version)\n"
      ],
      "metadata": {
        "colab": {
          "base_uri": "https://localhost:8080/"
        },
        "id": "G10drRavGCWM",
        "outputId": "4fb6ee9a-fb7b-431e-b222-671dd96f5128"
      },
      "execution_count": 2,
      "outputs": [
        {
          "output_type": "stream",
          "name": "stdout",
          "text": [
            "Python version\n",
            "3.7.12 (default, Sep 10 2021, 00:21:48) \n",
            "[GCC 7.5.0]\n"
          ]
        }
      ]
    },
    {
      "cell_type": "code",
      "source": [
        "import datetime\n",
        "now = datetime.datetime.now()\n",
        "print (\"Current date and time : \")\n",
        "print (now.strftime(\"%Y-%m-%d %H:%M:%S\"))\n"
      ],
      "metadata": {
        "colab": {
          "base_uri": "https://localhost:8080/"
        },
        "id": "avl70TuCI0qq",
        "outputId": "d431dd5b-77f8-4b82-abf6-c7c653be6b28"
      },
      "execution_count": 3,
      "outputs": [
        {
          "output_type": "stream",
          "name": "stdout",
          "text": [
            "Current date and time : \n",
            "2022-01-01 16:39:56\n"
          ]
        }
      ]
    },
    {
      "cell_type": "code",
      "source": [
        "from math import pi\n",
        "r = float(input (\"Input the radius of the circle : \"))\n",
        "print (\"The area of the circle with radius \" + str(r) + \" is: \" + str(pi * r**2))\n"
      ],
      "metadata": {
        "colab": {
          "base_uri": "https://localhost:8080/"
        },
        "id": "WAQQV2qeKoxF",
        "outputId": "962f9b70-9b9a-4a65-a92e-6814e5ebb94d"
      },
      "execution_count": 4,
      "outputs": [
        {
          "output_type": "stream",
          "name": "stdout",
          "text": [
            "Input the radius of the circle : 1.1\n",
            "The area of the circle with radius 1.1 is: 3.8013271108436504\n"
          ]
        }
      ]
    },
    {
      "cell_type": "code",
      "source": [
        "fname = input(\"Input your First Name : \")\n",
        "lname = input(\"Input your Last Name : \")\n",
        "print (\"Hello  \" + lname + \" \" + fname)\n"
      ],
      "metadata": {
        "colab": {
          "base_uri": "https://localhost:8080/"
        },
        "id": "Ue0nibrebcMY",
        "outputId": "c48cf515-974e-44d0-95ed-c12404d96aba"
      },
      "execution_count": 6,
      "outputs": [
        {
          "output_type": "stream",
          "name": "stdout",
          "text": [
            "Input your First Name : Azba \n",
            "Input your Last Name : Shoaib\n",
            "Hello  Shoaib Azba \n"
          ]
        }
      ]
    },
    {
      "cell_type": "code",
      "source": [
        "x = input(\"Type a number: \")\n",
        "y = input(\"Type another number: \")\n",
        "\n",
        "sum = int(x) + int(y)\n",
        "\n",
        "print(\"The sum is: \", sum)"
      ],
      "metadata": {
        "colab": {
          "base_uri": "https://localhost:8080/"
        },
        "id": "RmzFVrndboPj",
        "outputId": "b6e17de6-172c-452a-b9bd-a4d2ad1f9f11"
      },
      "execution_count": 7,
      "outputs": [
        {
          "output_type": "stream",
          "name": "stdout",
          "text": [
            "Type a number: 4\n",
            "Type another number: 8\n",
            "The sum is:  12\n"
          ]
        }
      ]
    }
  ]
}